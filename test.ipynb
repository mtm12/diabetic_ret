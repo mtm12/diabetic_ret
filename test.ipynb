{
 "cells": [
  {
   "cell_type": "code",
   "execution_count": null,
   "metadata": {},
   "outputs": [],
   "source": [
    "import pandas as pd"
   ]
  },
  {
   "cell_type": "code",
   "execution_count": 4,
   "metadata": {},
   "outputs": [],
   "source": [
    "#labels = pandas.read_csv('trainLabels.csv', index_col='image')\n",
    "labels = pd.read_csv('trainLabelsModified.csv')\n",
    "#print(labels)"
   ]
  },
  {
   "cell_type": "code",
   "execution_count": 6,
   "metadata": {},
   "outputs": [
    {
     "name": "stdout",
     "output_type": "stream",
     "text": [
      "[2. 2. 2. 2.]\n"
     ]
    }
   ],
   "source": [
    "#print(labels['image'])\n",
    "level = labels.loc[labels['image'] == '30832_right.jpeg']\n",
    "print(level['level'].values)"
   ]
  },
  {
   "cell_type": "code",
   "execution_count": null,
   "metadata": {},
   "outputs": [],
   "source": [
    "import pickle\n",
    "import operator"
   ]
  },
  {
   "cell_type": "code",
   "execution_count": null,
   "metadata": {},
   "outputs": [],
   "source": [
    "epoch_counter = 0"
   ]
  },
  {
   "cell_type": "code",
   "execution_count": null,
   "metadata": {},
   "outputs": [],
   "source": [
    "history_new = {'val_acc':[0.8, 0.7]}\n",
    "len(history_new['val_acc'])"
   ]
  },
  {
   "cell_type": "code",
   "execution_count": null,
   "metadata": {},
   "outputs": [],
   "source": [
    "with open(r\"trainHistory1.pickle\", \"rb\") as input_file: history = pickle.load(input_file)"
   ]
  },
  {
   "cell_type": "code",
   "execution_count": null,
   "metadata": {},
   "outputs": [],
   "source": [
    "print(history['val_acc'])"
   ]
  },
  {
   "cell_type": "code",
   "execution_count": null,
   "metadata": {},
   "outputs": [],
   "source": [
    "len(history['val_acc'])"
   ]
  },
  {
   "cell_type": "code",
   "execution_count": null,
   "metadata": {},
   "outputs": [],
   "source": [
    "print(history['val_acc'][len(history['val_acc'])-1])"
   ]
  },
  {
   "cell_type": "code",
   "execution_count": null,
   "metadata": {},
   "outputs": [],
   "source": [
    "if (history_new['val_acc'][len(history_new['val_acc'])-1]) > (max(history['val_acc'])):\n",
    "    print('save model on epoch#' + str(epoch_counter))\n",
    "else:\n",
    "    print('do not save model')"
   ]
  },
  {
   "cell_type": "code",
   "execution_count": null,
   "metadata": {},
   "outputs": [],
   "source": [
    "max_value = max(history['val_acc'])\n",
    "max_value"
   ]
  },
  {
   "cell_type": "code",
   "execution_count": 1,
   "metadata": {},
   "outputs": [],
   "source": [
    "import pandas as pd\n",
    "import os.path\n",
    "import itertools\n",
    "from IPython.display import clear_output\n",
    "import shutil"
   ]
  },
  {
   "cell_type": "code",
   "execution_count": 11,
   "metadata": {},
   "outputs": [
    {
     "name": "stdout",
     "output_type": "stream",
     "text": [
      "25795 24400 21152 25243 25410 "
     ]
    }
   ],
   "source": [
    "labels_file = 'trainLabelsModified.csv'\n",
    "action = 'trainModified'\n",
    "print('opening csv file')\n",
    "labels = pd.read_csv(labels_file)\n",
    "print('csv file read')\n",
    "counter = 0\n",
    "level0 = 0\n",
    "level1 = 0\n",
    "level2 = 0\n",
    "level3 = 0\n",
    "level4 = 0\n",
    "filelist= [file for file in os.listdir('resized375x250/' + action + '/') if file.endswith('.jpeg')]\n",
    "#print(len(filelist))\n",
    "for filename in filelist:\n",
    "#for filename in itertools.islice(filelist, 0, 500):\n",
    "    #print(filename)\n",
    "    level = labels.loc[labels['image'] == filename]\n",
    "    #print(level['level'].values)\n",
    "    if level['level'].values == 0:\n",
    "        level0 +=1\n",
    "    if level['level'].values == 1:\n",
    "        level1 +=1\n",
    "    if level['level'].values == 2:\n",
    "        level2 +=1\n",
    "    if level['level'].values == 3:\n",
    "        level3 +=1\n",
    "    if level['level'].values == 4:\n",
    "        level4 +=1\n",
    "    counter +=1\n",
    "    if (counter % 100) == 0:\n",
    "        clear_output(wait=True)\n",
    "        print(str(level0) + \" \" + str(level1) + \" \" + str(level2) + \" \" + str(level3) + \" \" + str(level4), end =\" \")"
   ]
  },
  {
   "cell_type": "code",
   "execution_count": 7,
   "metadata": {},
   "outputs": [
    {
     "name": "stdout",
     "output_type": "stream",
     "text": [
      "35100 "
     ]
    }
   ],
   "source": [
    "labels_file = 'trainLabels2.csv'\n",
    "action = 'train'\n",
    "labels = pd.read_csv(labels_file)\n",
    "d = {'image': [], 'level': []}\n",
    "df = pd.DataFrame(data=d)\n",
    "counter = 0\n",
    "filelist= [file for file in os.listdir('resized375x250/' + action + '/') if file.endswith('.jpeg')]\n",
    "for filename in filelist:\n",
    "#for filename in itertools.islice(filelist, 0, 50):\n",
    "    level = labels.loc[labels['image'] == filename[:-5]]\n",
    "    #print(filename + \" \" + str(level.values))\n",
    "    if level['level'].values == 0:\n",
    "        shutil.copy('resized375x250/' + action + '/' + filename, 'resized375x250/trainModified')\n",
    "        df = df.append({'image': filename, 'level': int(level['level'].values)}, ignore_index=True)\n",
    "        #print(int(level['level'].values))\n",
    "    if level['level'].values == 1:\n",
    "        for x in range(10):\n",
    "            shutil.copy('resized375x250/' + action + '/' + filename, 'resized375x250/trainModified/' + filename[:-5] + str(x) + '.jpeg')\n",
    "            df = df.append({'image': filename[:-5] + str(x) + '.jpeg', 'level': int(level['level'].values)}, ignore_index=True)\n",
    "    if level['level'].values == 2:\n",
    "        for x in range(4):\n",
    "            shutil.copy('resized375x250/' + action + '/' + filename, 'resized375x250/trainModified/' + filename[:-5] + str(x) + '.jpeg')\n",
    "            df = df.append({'image': filename[:-5] + str(x) + '.jpeg', 'level': int(level['level'].values)}, ignore_index=True)\n",
    "    if level['level'].values == 3:\n",
    "        for x in range(29):\n",
    "            shutil.copy('resized375x250/' + action + '/' + filename, 'resized375x250/trainModified/' + filename[:-5] + str(x) + '.jpeg')\n",
    "            df = df.append({'image': filename[:-5] + str(x) + '.jpeg', 'level': int(level['level'].values)}, ignore_index=True)\n",
    "    if level['level'].values == 4:\n",
    "        for x in range(36):\n",
    "            shutil.copy('resized375x250/' + action + '/' + filename, 'resized375x250/trainModified/' + filename[:-5] + str(x) + '.jpeg')\n",
    "            df = df.append({'image': filename[:-5] + str(x) + '.jpeg', 'level': int(level['level'].values)}, ignore_index=True)\n",
    "    counter +=1\n",
    "    if (counter % 100) == 0:\n",
    "        clear_output(wait=True)\n",
    "        print(counter, end =\" \")\n",
    "df.to_csv('trainLabelsModified.csv')"
   ]
  },
  {
   "cell_type": "code",
   "execution_count": null,
   "metadata": {},
   "outputs": [],
   "source": [
    "#write new csv file\n",
    "df.to_csv('trainLabelsModified.csv')"
   ]
  },
  {
   "cell_type": "code",
   "execution_count": null,
   "metadata": {},
   "outputs": [],
   "source": [
    "d = {'image': [], 'level': []}\n",
    "df = pd.DataFrame(data=d)\n",
    "df"
   ]
  },
  {
   "cell_type": "code",
   "execution_count": null,
   "metadata": {},
   "outputs": [],
   "source": [
    "df = df.append({'image': 'some.jpeg', 'level': 2}, ignore_index=True)\n",
    "df"
   ]
  },
  {
   "cell_type": "code",
   "execution_count": null,
   "metadata": {},
   "outputs": [],
   "source": [
    "df.to_csv('trainLabelsTest.csv')"
   ]
  },
  {
   "cell_type": "code",
   "execution_count": null,
   "metadata": {},
   "outputs": [],
   "source": [
    "df"
   ]
  },
  {
   "cell_type": "code",
   "execution_count": null,
   "metadata": {},
   "outputs": [],
   "source": []
  }
 ],
 "metadata": {
  "kernelspec": {
   "display_name": "Python 3",
   "language": "python",
   "name": "python3"
  },
  "language_info": {
   "codemirror_mode": {
    "name": "ipython",
    "version": 3
   },
   "file_extension": ".py",
   "mimetype": "text/x-python",
   "name": "python",
   "nbconvert_exporter": "python",
   "pygments_lexer": "ipython3",
   "version": "3.6.4"
  }
 },
 "nbformat": 4,
 "nbformat_minor": 2
}
