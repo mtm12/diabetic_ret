{
 "cells": [
  {
   "cell_type": "code",
   "execution_count": 3,
   "metadata": {},
   "outputs": [
    {
     "name": "stderr",
     "output_type": "stream",
     "text": [
      "/anaconda3/lib/python3.6/site-packages/h5py/__init__.py:36: FutureWarning: Conversion of the second argument of issubdtype from `float` to `np.floating` is deprecated. In future, it will be treated as `np.float64 == np.dtype(float).type`.\n",
      "  from ._conv import register_converters as _register_converters\n",
      "Using TensorFlow backend.\n"
     ]
    }
   ],
   "source": [
    "from PIL import Image\n",
    "import os.path\n",
    "import numpy as np\n",
    "import itertools\n",
    "import keras.backend as K\n",
    "import keras\n",
    "from IPython.display import clear_output\n",
    "import pandas\n",
    "import time\n",
    "import tensorflow as tf"
   ]
  },
  {
   "cell_type": "code",
   "execution_count": null,
   "metadata": {},
   "outputs": [],
   "source": [
    "def resizeImg(action, x , y):\n",
    "    avgX = x\n",
    "    avgY = y\n",
    "    counter = 0\n",
    "    filelist= [file for file in os.listdir(action + '/') if file.endswith('.jpeg')]\n",
    "    for filename in filelist:\n",
    "    #for filename in itertools.islice(filelist, 0, 100):\n",
    "        img = Image.open(action + '/' + filename)\n",
    "        imgResize = img.resize((avgX, avgY), Image.LANCZOS)\n",
    "        imgResize.save('resized1125x750/' + action + '/' + filename)\n",
    "        img.close()\n",
    "        counter +=1\n",
    "        if (counter % 100) == 0:\n",
    "            clear_output(wait=True)\n",
    "            print(counter, end =\" \") \n",
    "        "
   ]
  },
  {
   "cell_type": "code",
   "execution_count": null,
   "metadata": {},
   "outputs": [],
   "source": [
    "resizeImg('train',1125,750)"
   ]
  },
  {
   "cell_type": "code",
   "execution_count": 2,
   "metadata": {},
   "outputs": [],
   "source": [
    "def process_image(action, labels_file):\n",
    "    counter = 0\n",
    "    labels = pandas.read_csv(labels_file)\n",
    "    X = []\n",
    "    y = []\n",
    "\n",
    "    filelist= [file for file in os.listdir('resized375x250/' + action + '/') if file.endswith('.jpeg')]\n",
    "    for filename in filelist:\n",
    "    #for filename in itertools.islice(filelist, 0, 1000):\n",
    "        #print(filename)\n",
    "        img = Image.open('resized375x250/' + action + '/' + filename)\n",
    "        #imgData = list(img.getdata())\n",
    "        #imgData = np.asarray(imgData)\n",
    "        #imgData = img.getdata()\n",
    "        #imgData = np.asarray(imgData)\n",
    "        rgbimg = Image.new(\"RGB\", img.size)\n",
    "        rgbimg.paste(img)\n",
    "        imgData = np.asarray(rgbimg)\n",
    "        #imgData = np.asarray(img)\n",
    "        #print(imgData.shape)\n",
    "        #print(imgData.ndim)\n",
    "        if imgData.ndim == 3:\n",
    "            x = imgData.reshape(375,250,3)\n",
    "            X.append(x)\n",
    "            #level = labels.loc[labels['image'] == '11909_right.jpeg']\n",
    "            #print(int(level['level'].values))\n",
    "            #print(filename)\n",
    "            #print(filename[:-5])\n",
    "            #level = labels.loc[labels['image'] == filename[:-5]]#use for train\n",
    "            level = labels.loc[labels['image'] == filename]#use for trainModified\n",
    "            #print(level)\n",
    "            #print(int(level['level'].values))\n",
    "            y.append(int(level['level'].values))\n",
    "        img.close()\n",
    "        counter +=1\n",
    "        if (counter % 100) == 0:\n",
    "            clear_output(wait=True)\n",
    "            print(counter, end =\" \") \n",
    "    return X, y"
   ]
  },
  {
   "cell_type": "code",
   "execution_count": 3,
   "metadata": {},
   "outputs": [
    {
     "name": "stdout",
     "output_type": "stream",
     "text": [
      "1000 11.710959196090698\n"
     ]
    }
   ],
   "source": [
    "start_time = time.time()\n",
    "X, y = process_image('trainModified', 'trainLabelsModified.csv')\n",
    "elapsed_time = time.time() - start_time\n",
    "print(elapsed_time)"
   ]
  },
  {
   "cell_type": "code",
   "execution_count": 4,
   "metadata": {},
   "outputs": [
    {
     "name": "stdout",
     "output_type": "stream",
     "text": [
      "shape of X: (1000, 375, 250, 3)\n",
      "length of X: 1000\n",
      "shape of y: (1000,)\n",
      "length of y: 1000\n",
      "value of y: 0\n"
     ]
    }
   ],
   "source": [
    "X = np.asarray(X)\n",
    "y = np.asarray(y)\n",
    "print(\"shape of X: \" + str(X.shape))\n",
    "print(\"length of X: \" + str(len(X)))\n",
    "print(\"shape of y: \" + str(y.shape))\n",
    "print(\"length of y: \" + str(len(y)))\n",
    "print(\"value of y: \" + str(y[0]))"
   ]
  },
  {
   "cell_type": "code",
   "execution_count": 5,
   "metadata": {},
   "outputs": [],
   "source": [
    "#split X and y into train and test\n",
    "from sklearn.model_selection import train_test_split\n",
    "X_train,X_test, y_train,y_test = train_test_split(X,y,test_size=0.2,random_state=0) "
   ]
  },
  {
   "cell_type": "code",
   "execution_count": 6,
   "metadata": {},
   "outputs": [
    {
     "name": "stdout",
     "output_type": "stream",
     "text": [
      "shape of X_train: (800, 375, 250, 3)\n",
      "shape of y_train: (800,)\n",
      "shape of X_test: (200, 375, 250, 3)\n",
      "shape of y_test: (200,)\n"
     ]
    }
   ],
   "source": [
    "print(\"shape of X_train: \" + str(X_train.shape))\n",
    "print(\"shape of y_train: \" + str(y_train.shape))\n",
    "print(\"shape of X_test: \" + str(X_test.shape))\n",
    "print(\"shape of y_test: \" + str(y_test.shape))"
   ]
  },
  {
   "cell_type": "code",
   "execution_count": null,
   "metadata": {},
   "outputs": [],
   "source": [
    "X_train"
   ]
  },
  {
   "cell_type": "code",
   "execution_count": null,
   "metadata": {},
   "outputs": [],
   "source": [
    "# print('Saving X_train')\n",
    "# np.save('X_train.npy', X_train)\n",
    "# print('Saving y_train')\n",
    "# np.save('y_train.npy', y_train)\n",
    "# print('Saving X_test')\n",
    "# np.save('X_test.npy', X_test)\n",
    "# print('Saving y_test')\n",
    "# np.save('y_test.npy', y_test)"
   ]
  },
  {
   "cell_type": "code",
   "execution_count": null,
   "metadata": {},
   "outputs": [],
   "source": [
    "# X_train = np.load('X_train.npy)\n",
    "# y_train = np.load('y_train.npy)\n",
    "# X_test = np.load('X_test.npy)\n",
    "# y_test = np.load('y_test.npy)"
   ]
  },
  {
   "cell_type": "code",
   "execution_count": 7,
   "metadata": {},
   "outputs": [],
   "source": [
    "from keras.utils.np_utils import to_categorical\n",
    "y_train = to_categorical(y_train, 5)\n",
    "y_test = to_categorical(y_test, 5)"
   ]
  },
  {
   "cell_type": "code",
   "execution_count": null,
   "metadata": {},
   "outputs": [],
   "source": [
    "#from keras.callbacks import ReduceLROnPlateau , ModelCheckpoint , LearningRateScheduler\n",
    "#lr_reduce = ReduceLROnPlateau(monitor='val_acc', factor=0.1, epsilon=0.0001, patience=1, verbose=1)"
   ]
  },
  {
   "cell_type": "code",
   "execution_count": null,
   "metadata": {},
   "outputs": [],
   "source": [
    "#filepath=\"tf_weightsv2-0.hdf5\"\n",
    "#checkpoint = ModelCheckpoint(filepath, monitor='val_acc', verbose=1, save_best_only=True, mode='max')"
   ]
  },
  {
   "cell_type": "code",
   "execution_count": 8,
   "metadata": {},
   "outputs": [],
   "source": [
    "from keras.models import Sequential , Model\n",
    "from keras.layers import Dense , Activation\n",
    "from keras.layers import Dropout , GlobalAveragePooling2D\n",
    "from keras.layers import Flatten\n",
    "from keras.constraints import maxnorm\n",
    "from keras.optimizers import SGD , RMSprop , Adadelta , Adam\n",
    "from keras.layers import Conv2D , BatchNormalization\n",
    "from keras.layers import MaxPooling2D\n",
    "from keras.utils import np_utils\n",
    "from keras import backend as K\n",
    "K.set_image_dim_ordering('th')\n",
    "from sklearn.model_selection import GridSearchCV\n",
    "from keras.wrappers.scikit_learn import KerasClassifier\n",
    "from keras.utils import multi_gpu_model"
   ]
  },
  {
   "cell_type": "code",
   "execution_count": 9,
   "metadata": {},
   "outputs": [],
   "source": [
    "#use for channels last\n",
    "#X_train=X_train.reshape(5216,250,250,3)\n",
    "# X_train=X_train.reshape(97642,375,250,3)\n",
    "# X_test=X_test.reshape(24411,375,250,3)\n",
    "X_train=X_train.reshape(800,375,250,3)\n",
    "X_test=X_test.reshape(200,375,250,3)\n",
    "K.set_image_data_format('channels_last')"
   ]
  },
  {
   "cell_type": "code",
   "execution_count": 10,
   "metadata": {},
   "outputs": [],
   "source": [
    "from keras.applications.inception_v3 import InceptionV3\n",
    "# create the base pre-trained model\n",
    "#with tf.device('/cpu:0'):\n",
    "#    base_model = InceptionV3(weights='diabetic_ret_v2-2-model.h5', include_top=False , input_shape=(375, 250, 3))\n",
    "base_model = InceptionV3(weights=None, include_top=False , input_shape=(375, 250, 3))"
   ]
  },
  {
   "cell_type": "code",
   "execution_count": 11,
   "metadata": {},
   "outputs": [],
   "source": [
    "x = base_model.output\n",
    "x = Dropout(0.5)(x)\n",
    "x = GlobalAveragePooling2D()(x)\n",
    "x = Dense(128, activation='relu')(x)\n",
    "#x = Dropout(0.5)(x)#new\n",
    "#x = Dense(128, activation='relu')(x)#new\n",
    "#x = Dropout(0.5)(x)#new\n",
    "x = BatchNormalization()(x)\n",
    "#x = BatchNormalization(axis=3)(x)#use for channels last\n",
    "#predictions = Dense(2, activation='sigmoid')(x)\n",
    "predictions = Dense(5, activation='softmax')(x)"
   ]
  },
  {
   "cell_type": "code",
   "execution_count": 12,
   "metadata": {},
   "outputs": [],
   "source": [
    "model = Model(inputs=base_model.input, outputs=predictions)"
   ]
  },
  {
   "cell_type": "code",
   "execution_count": 13,
   "metadata": {},
   "outputs": [],
   "source": [
    "#parallel_model = multi_gpu_model(model, gpus=2)\n",
    "#parallel_model.compile(loss='categorical_crossentropy', \n",
    "#                       optimizer=Adam(lr=0.01, beta_1=0.9, beta_2=0.999, epsilon=None, decay=0.0, amsgrad=False), \n",
    "#                       metrics=['accuracy'])\n",
    "model.compile(loss='categorical_crossentropy',\n",
    "              optimizer=Adam(lr=0.001, beta_1=0.9, beta_2=0.999, epsilon=None, decay=0.0, amsgrad=False),\n",
    "              #optimizer='Adam',\n",
    "              metrics=['accuracy'])"
   ]
  },
  {
   "cell_type": "code",
   "execution_count": null,
   "metadata": {},
   "outputs": [],
   "source": [
    "print(model.summary())"
   ]
  },
  {
   "cell_type": "code",
   "execution_count": 14,
   "metadata": {},
   "outputs": [],
   "source": [
    "#train 32 on each GPU\n",
    "batch_size = 32\n",
    "#batch_epochs = 1\n",
    "#total_epochs = 10\n",
    "epochs = 10"
   ]
  },
  {
   "cell_type": "code",
   "execution_count": 15,
   "metadata": {},
   "outputs": [
    {
     "name": "stdout",
     "output_type": "stream",
     "text": [
      "Train on 800 samples, validate on 200 samples\n",
      "Epoch 1/6\n",
      "800/800 [==============================] - 964s 1s/step - loss: 1.7578 - acc: 0.2075 - val_loss: 6.9839 - val_acc: 0.1900\n",
      "Epoch 2/6\n",
      "800/800 [==============================] - 955s 1s/step - loss: 1.6318 - acc: 0.2150 - val_loss: 4.0718 - val_acc: 0.1850\n",
      "Epoch 3/6\n",
      "800/800 [==============================] - 925s 1s/step - loss: 1.6276 - acc: 0.2088 - val_loss: 2.6950 - val_acc: 0.1800\n",
      "Epoch 4/6\n",
      "800/800 [==============================] - 919s 1s/step - loss: 1.6157 - acc: 0.2387 - val_loss: 2.0888 - val_acc: 0.1850\n",
      "Epoch 5/6\n",
      "800/800 [==============================] - 916s 1s/step - loss: 1.6083 - acc: 0.2562 - val_loss: 2.0466 - val_acc: 0.2450\n",
      "Epoch 6/6\n",
      "800/800 [==============================] - 918s 1s/step - loss: 1.6137 - acc: 0.2363 - val_loss: 1.7597 - val_acc: 0.2650\n"
     ]
    }
   ],
   "source": [
    "# Since the batch size is 64, each GPU will process 32 samples.\n",
    "#history = parallel_model.fit(X_train, y_train, validation_data = (X_test , y_test),\n",
    "#                    epochs=epochs, batch_size=batch_size)\n",
    "#history = model.fit(X_train, y_train, validation_data = (X_test , y_test),\n",
    "#                    callbacks=[lr_reduce,checkpoint], epochs=epochs)\n",
    "history = model.fit(X_train, y_train, validation_data = (X_test , y_test),\n",
    "                    epochs=epochs, batch_size=batch_size)"
   ]
  },
  {
   "cell_type": "code",
   "execution_count": null,
   "metadata": {},
   "outputs": [],
   "source": [
    "# #epoch_counter = 0\n",
    "# for epoch_counter in range(total_epochs):\n",
    "#     if epoch_counter == 0:\n",
    "#         with open('trainHistory2-0.pickle', 'wb') as file_history:\n",
    "#             pickle.dump(history_new.history, file_history)\n",
    "#         print('save model on epoch#' + str(epoch_counter))\n",
    "#         model.save(diabetic_ret_model.h5)\n",
    "#     else:\n",
    "#         with open(r\"trainHistory2-0.pickle\", \"rb\") as input_file: history = Pickle.load(input_file)\n",
    "#         if (history_new['val_acc'][len(history_new['val_acc'])-1]) > (max(history['val_acc'])):\n",
    "#             print('val_acc improved - save model on epoch#' + str(epoch_counter))\n",
    "#             model.save(diabetic_ret_model.h5)\n",
    "#         else:\n",
    "#             print('va_acc did not improve - do not save model')"
   ]
  },
  {
   "cell_type": "code",
   "execution_count": null,
   "metadata": {},
   "outputs": [],
   "source": [
    "import pickle"
   ]
  },
  {
   "cell_type": "code",
   "execution_count": null,
   "metadata": {},
   "outputs": [],
   "source": [
    "with open('trainHistoryv2-2.pickle', 'wb') as file_history:\n",
    "    pickle.dump(history.history, file_history)"
   ]
  },
  {
   "cell_type": "code",
   "execution_count": null,
   "metadata": {},
   "outputs": [],
   "source": [
    "model.save('diabetic_ret_v2-2-model.h5')"
   ]
  },
  {
   "cell_type": "code",
   "execution_count": null,
   "metadata": {},
   "outputs": [],
   "source": [
    "print(history.history['val_acc'])"
   ]
  },
  {
   "cell_type": "code",
   "execution_count": null,
   "metadata": {},
   "outputs": [],
   "source": [
    "#from keras.models import load_model\n",
    "#model = load_model('tf_weightsv1-0.hdf5')"
   ]
  },
  {
   "cell_type": "code",
   "execution_count": null,
   "metadata": {},
   "outputs": [],
   "source": [
    "#model.load_weights(\"tf_weightsv1-0.hdf5\")"
   ]
  },
  {
   "cell_type": "code",
   "execution_count": null,
   "metadata": {},
   "outputs": [],
   "source": [
    "with open(r\"trainHistoryv2-2.pickle\", \"rb\") as input_file: history = pickle.load(input_file)"
   ]
  },
  {
   "cell_type": "code",
   "execution_count": 34,
   "metadata": {},
   "outputs": [
    {
     "data": {
      "image/png": "[encoded data removed]",
      "text/plain": [
       "<Figure size 432x288 with 1 Axes>"
      ]
     },
     "metadata": {},
     "output_type": "display_data"
    },
    {
     "data": {
      "image/png": "[encoded data removed]",
      "text/plain": [
       "<Figure size 432x288 with 1 Axes>"
      ]
     },
     "metadata": {},
     "output_type": "display_data"
    }
   ],
   "source": [
    "import matplotlib.pyplot as plt\n",
    "plt.plot(history.history['acc'])\n",
    "plt.plot(history.history['val_acc'])\n",
    "plt.title('model accuracy')\n",
    "plt.ylabel('accuracy')\n",
    "plt.xlabel('epoch')\n",
    "plt.legend(['train', 'test'], loc='upper left')\n",
    "plt.show()\n",
    "# summarize history for loss\n",
    "plt.plot(history.history['loss'])\n",
    "plt.plot(history.history['val_loss'])\n",
    "plt.title('model loss')\n",
    "plt.ylabel('loss')\n",
    "plt.xlabel('epoch')\n",
    "plt.legend(['train', 'test'], loc='upper left')\n",
    "plt.show()"
   ]
  },
  {
   "cell_type": "code",
   "execution_count": 45,
   "metadata": {},
   "outputs": [
    {
     "data": {
      "image/png": "[encoded data removed]",
      "text/plain": [
       "<Figure size 432x288 with 1 Axes>"
      ]
     },
     "metadata": {},
     "output_type": "display_data"
    },
    {
     "data": {
      "image/png": "[encoded data removed]",
      "text/plain": [
       "<Figure size 432x288 with 1 Axes>"
      ]
     },
     "metadata": {},
     "output_type": "display_data"
    }
   ],
   "source": [
    "import matplotlib.pyplot as plt\n",
    "fig1, ax = plt.subplots()\n",
    "ax.plot(history.history['acc'])\n",
    "ax.plot(history.history['val_acc'])\n",
    "plt.title('model accuracy')\n",
    "plt.ylabel('accuracy')\n",
    "plt.xlabel('epoch')\n",
    "plt.legend(['train', 'test'], loc='upper left')\n",
    "plt.show()\n",
    "# summarize history for loss\n",
    "fig2, ax = plt.subplots()\n",
    "ax.plot(history.history['loss'])\n",
    "ax.plot(history.history['val_loss'])\n",
    "plt.title('model loss')\n",
    "plt.ylabel('loss')\n",
    "plt.xlabel('epoch')\n",
    "plt.legend(['train', 'test'], loc='upper left')\n",
    "plt.show()\n"
   ]
  },
  {
   "cell_type": "code",
   "execution_count": 46,
   "metadata": {},
   "outputs": [],
   "source": [
    "fig1.savefig('acc.png') \n",
    "fig2.savefig('loss.png') "
   ]
  },
  {
   "cell_type": "code",
   "execution_count": 25,
   "metadata": {},
   "outputs": [],
   "source": [
    "from sklearn.metrics import confusion_matrix\n",
    "pred = model.predict(X_test)\n",
    "pred = np.argmax(pred,axis = 1) \n",
    "y_true = np.argmax(y_test,axis = 1)\n",
    "#y_true = y_test"
   ]
  },
  {
   "cell_type": "code",
   "execution_count": 26,
   "metadata": {},
   "outputs": [
    {
     "data": {
      "text/plain": [
       "array([3, 2, 1, 2, 3, 1, 3, 4, 2, 0, 3, 0, 1, 3, 4, 1, 3, 4, 1, 1, 0, 1,\n",
       "       2, 3, 2, 0, 0, 3, 0, 1, 1, 4, 2, 4, 4, 0, 2, 4, 1, 3, 3, 3, 2, 2,\n",
       "       0, 3, 0, 2, 4, 2, 1, 4, 0, 4, 0, 4, 3, 4, 3, 1, 3, 1, 1, 3, 4, 4,\n",
       "       1, 1, 3, 0, 4, 1, 1, 0, 4, 0, 1, 0, 2, 1, 1, 3, 1, 2, 0, 1, 4, 0,\n",
       "       1, 3, 4, 1, 0, 2, 4, 1, 2, 4, 4, 4, 1, 4, 2, 0, 0, 3, 0, 2, 3, 0,\n",
       "       0, 1, 1, 4, 0, 3, 1, 3, 1, 0, 4, 0, 3, 1, 3, 2, 4, 3, 0, 1, 0, 2,\n",
       "       4, 3, 0, 0, 0, 1, 0, 0, 2, 0, 0, 1, 1, 1, 1, 4, 3, 3, 1, 2, 2, 3,\n",
       "       0, 3, 0, 3, 2, 1, 1, 1, 1, 3, 4, 4, 0, 0, 0, 3, 3, 0, 0, 2, 3, 2,\n",
       "       1, 2, 2, 0, 1, 4, 0, 4, 1, 4, 2, 1, 0, 3, 4, 4, 2, 0, 4, 4, 0, 2,\n",
       "       4, 4])"
      ]
     },
     "execution_count": 26,
     "metadata": {},
     "output_type": "execute_result"
    }
   ],
   "source": [
    "y_true"
   ]
  },
  {
   "cell_type": "code",
   "execution_count": 27,
   "metadata": {},
   "outputs": [
    {
     "data": {
      "text/plain": [
       "array([0, 0, 0, 0, 4, 0, 0, 0, 0, 4, 0, 0, 0, 4, 0, 0, 0, 0, 0, 0, 0, 0,\n",
       "       0, 0, 0, 0, 0, 2, 4, 4, 0, 0, 0, 4, 0, 0, 0, 0, 0, 4, 0, 4, 0, 0,\n",
       "       0, 4, 0, 0, 4, 4, 0, 0, 0, 4, 4, 0, 0, 0, 0, 4, 0, 0, 0, 4, 4, 0,\n",
       "       0, 0, 0, 4, 4, 4, 4, 0, 0, 0, 0, 0, 4, 4, 0, 4, 0, 0, 0, 0, 0, 0,\n",
       "       0, 0, 0, 0, 4, 0, 4, 0, 4, 4, 0, 0, 0, 0, 0, 0, 4, 0, 0, 0, 0, 0,\n",
       "       0, 0, 0, 0, 0, 0, 0, 0, 0, 0, 0, 0, 0, 4, 0, 4, 0, 0, 0, 0, 0, 0,\n",
       "       0, 0, 0, 0, 0, 0, 0, 0, 0, 0, 4, 4, 0, 4, 0, 4, 0, 0, 0, 4, 4, 4,\n",
       "       0, 0, 0, 4, 0, 0, 0, 0, 0, 4, 0, 4, 0, 0, 0, 0, 0, 0, 0, 0, 4, 0,\n",
       "       4, 4, 4, 0, 4, 4, 0, 0, 0, 0, 0, 4, 0, 0, 4, 4, 0, 4, 4, 0, 0, 0,\n",
       "       4, 0])"
      ]
     },
     "execution_count": 27,
     "metadata": {},
     "output_type": "execute_result"
    }
   ],
   "source": [
    "pred"
   ]
  },
  {
   "cell_type": "code",
   "execution_count": 28,
   "metadata": {},
   "outputs": [
    {
     "data": {
      "image/png": "[encoded data removed]",
      "text/plain": [
       "<Figure size 360x360 with 1 Axes>"
      ]
     },
     "metadata": {},
     "output_type": "display_data"
    }
   ],
   "source": [
    "CM = confusion_matrix(y_true, pred)\n",
    "from mlxtend.plotting import plot_confusion_matrix\n",
    "fig, ax = plot_confusion_matrix(conf_mat=CM, figsize=(5, 5))\n",
    "plt.show()"
   ]
  },
  {
   "cell_type": "code",
   "execution_count": 30,
   "metadata": {},
   "outputs": [],
   "source": [
    "#plt.savefig('cm.png') \n",
    "fig.savefig('cm2.png') "
   ]
  },
  {
   "cell_type": "code",
   "execution_count": null,
   "metadata": {},
   "outputs": [],
   "source": [
    "precision = 390 / (390 + 137)\n",
    "print(precision)"
   ]
  },
  {
   "cell_type": "code",
   "execution_count": null,
   "metadata": {},
   "outputs": [],
   "source": [
    "recall = 390 / (390 + 0)\n",
    "print(recall)"
   ]
  },
  {
   "cell_type": "code",
   "execution_count": null,
   "metadata": {},
   "outputs": [],
   "source": [
    "f1 = (2*recall*precision) / (recall + precision)\n",
    "print(f1)"
   ]
  },
  {
   "cell_type": "code",
   "execution_count": 4,
   "metadata": {},
   "outputs": [],
   "source": [
    "def process_val_image(action, labels_file):\n",
    "    counter = 0\n",
    "    labels = pandas.read_csv(labels_file)\n",
    "    X = []\n",
    "    y = []\n",
    "\n",
    "    filelist= [file for file in os.listdir('resized375x250/' + action + '/') if file.endswith('.jpeg')]\n",
    "    for filename in filelist:\n",
    "    #for filename in itertools.islice(filelist, 0, 1000):\n",
    "        #print(filename)\n",
    "        img = Image.open('resized375x250/' + action + '/' + filename)\n",
    "        #imgData = list(img.getdata())\n",
    "        #imgData = np.asarray(imgData)\n",
    "        #imgData = img.getdata()\n",
    "        #imgData = np.asarray(imgData)\n",
    "        rgbimg = Image.new(\"RGB\", img.size)\n",
    "        rgbimg.paste(img)\n",
    "        imgData = np.asarray(rgbimg)\n",
    "        #imgData = np.asarray(img)\n",
    "        #print(imgData.shape)\n",
    "        #print(imgData.ndim)\n",
    "        if imgData.ndim == 3:\n",
    "            x = imgData.reshape(375,250,3)\n",
    "            X.append(x)\n",
    "            #level = labels.loc[labels['image'] == '11909_right.jpeg']\n",
    "            #print(int(level['level'].values))\n",
    "            print(filename)\n",
    "            #print(filename[:-5])\n",
    "            level = labels.loc[labels['image'] == filename[:-5]]#use for train\n",
    "            #level = labels.loc[labels['image'] == filename]#use for trainModified\n",
    "            #print(level)\n",
    "            print(int(level['level'].values))\n",
    "            y.append(int(level['level'].values))\n",
    "        img.close()\n",
    "        counter +=1\n",
    "        if (counter % 100) == 0:\n",
    "            clear_output(wait=True)\n",
    "            print(counter, end =\" \") \n",
    "    return X, y"
   ]
  },
  {
   "cell_type": "code",
   "execution_count": 5,
   "metadata": {},
   "outputs": [
    {
     "name": "stdout",
     "output_type": "stream",
     "text": [
      "466_left.jpeg\n",
      "2\n",
      "936_right.jpeg\n",
      "4\n",
      "240_right.jpeg\n",
      "1\n",
      "320_left.jpeg\n",
      "1\n",
      "1499_left.jpeg\n",
      "0\n",
      "1138_right.jpeg\n",
      "4\n",
      "609_left.jpeg\n",
      "3\n",
      "1306_right.jpeg\n",
      "0\n",
      "679_left.jpeg\n",
      "3\n",
      "444_right.jpeg\n",
      "2\n"
     ]
    }
   ],
   "source": [
    "X_validate, y_validate = process_val_image('validate', 'validateLabels.csv')"
   ]
  },
  {
   "cell_type": "code",
   "execution_count": 9,
   "metadata": {},
   "outputs": [
    {
     "name": "stdout",
     "output_type": "stream",
     "text": [
      "shape of X_validate: (10, 375, 250, 3)\n"
     ]
    }
   ],
   "source": [
    "X_validate = np.asarray(X_validate)\n",
    "print(\"shape of X_validate: \" + str(X_validate.shape))"
   ]
  },
  {
   "cell_type": "code",
   "execution_count": 7,
   "metadata": {},
   "outputs": [
    {
     "name": "stderr",
     "output_type": "stream",
     "text": [
      "/anaconda3/lib/python3.6/site-packages/keras/models.py:255: UserWarning: No training configuration found in save file: the model was *not* compiled. Compile it manually.\n",
      "  warnings.warn('No training configuration found in save file: '\n"
     ]
    }
   ],
   "source": [
    "from keras.models import load_model\n",
    "model2 = load_model('diabetic_ret_v2-3-model.h5')"
   ]
  },
  {
   "cell_type": "code",
   "execution_count": 10,
   "metadata": {},
   "outputs": [],
   "source": [
    "predictions = model2.predict(X_validate)"
   ]
  },
  {
   "cell_type": "code",
   "execution_count": 11,
   "metadata": {},
   "outputs": [
    {
     "data": {
      "text/plain": [
       "array([[7.40733325e-01, 3.89363877e-02, 2.15693757e-01, 4.63552494e-03,\n",
       "        1.02044100e-06],\n",
       "       [4.63815004e-01, 4.15806085e-01, 1.20005436e-01, 3.73415824e-04,\n",
       "        5.01339421e-11],\n",
       "       [8.17036033e-01, 1.02407951e-02, 1.72711194e-01, 7.35160825e-07,\n",
       "        1.11823974e-05],\n",
       "       [1.77084049e-03, 9.98126686e-01, 9.19911981e-05, 1.28676769e-09,\n",
       "        1.04176124e-05],\n",
       "       [5.84538043e-01, 8.00565444e-03, 4.03810412e-01, 4.92482695e-06,\n",
       "        3.64094716e-03],\n",
       "       [1.19509585e-01, 9.33245698e-04, 7.26478875e-01, 8.79349609e-05,\n",
       "        1.52990386e-01],\n",
       "       [6.71082661e-02, 9.30397928e-01, 2.48478306e-03, 9.06051173e-06,\n",
       "        4.50597476e-11],\n",
       "       [3.39720815e-01, 6.54086590e-01, 6.19226461e-03, 4.11724983e-07,\n",
       "        3.62540753e-08],\n",
       "       [1.01806246e-01, 2.40607915e-04, 4.85324115e-03, 8.93099904e-01,\n",
       "        5.32149953e-13],\n",
       "       [8.71330738e-01, 1.15742243e-03, 1.27073824e-01, 4.37877956e-04,\n",
       "        2.23908630e-12]], dtype=float32)"
      ]
     },
     "execution_count": 11,
     "metadata": {},
     "output_type": "execute_result"
    }
   ],
   "source": [
    "predictions"
   ]
  },
  {
   "cell_type": "code",
   "execution_count": 12,
   "metadata": {},
   "outputs": [
    {
     "name": "stdout",
     "output_type": "stream",
     "text": [
      "[0 0 0 1 0 2 1 1 3 0]\n"
     ]
    }
   ],
   "source": [
    "print(np.argmax(predictions,axis = 1))"
   ]
  },
  {
   "cell_type": "code",
   "execution_count": 53,
   "metadata": {},
   "outputs": [
    {
     "data": {
      "text/plain": [
       "[2, 4, 1, 1, 0, 4, 3, 0, 3, 2]"
      ]
     },
     "execution_count": 53,
     "metadata": {},
     "output_type": "execute_result"
    }
   ],
   "source": [
    "y_validate"
   ]
  },
  {
   "cell_type": "code",
   "execution_count": null,
   "metadata": {},
   "outputs": [],
   "source": []
  }
 ],
 "metadata": {
  "kernelspec": {
   "display_name": "Python 3",
   "language": "python",
   "name": "python3"
  },
  "language_info": {
   "codemirror_mode": {
    "name": "ipython",
    "version": 3
   },
   "file_extension": ".py",
   "mimetype": "text/x-python",
   "name": "python",
   "nbconvert_exporter": "python",
   "pygments_lexer": "ipython3",
   "version": "3.6.4"
  }
 },
 "nbformat": 4,
 "nbformat_minor": 2
}
