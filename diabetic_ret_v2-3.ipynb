{
 "cells": [
  {
   "cell_type": "code",
   "execution_count": 1,
   "metadata": {},
   "outputs": [
    {
     "name": "stderr",
     "output_type": "stream",
     "text": [
      "/home/ubuntu/anaconda3/lib/python3.6/site-packages/h5py/__init__.py:36: FutureWarning: Conversion of the second argument of issubdtype from `float` to `np.floating` is deprecated. In future, it will be treated as `np.float64 == np.dtype(float).type`.\n",
      "  from ._conv import register_converters as _register_converters\n",
      "Using TensorFlow backend.\n",
      "/home/ubuntu/anaconda3/lib/python3.6/site-packages/matplotlib/__init__.py:1067: UserWarning: Duplicate key in file \"/home/ubuntu/.config/matplotlib/matplotlibrc\", line #2\n",
      "  (fname, cnt))\n",
      "/home/ubuntu/anaconda3/lib/python3.6/site-packages/matplotlib/__init__.py:1067: UserWarning: Duplicate key in file \"/home/ubuntu/.config/matplotlib/matplotlibrc\", line #3\n",
      "  (fname, cnt))\n"
     ]
    }
   ],
   "source": [
    "from PIL import Image\n",
    "import os.path\n",
    "import numpy as np\n",
    "import itertools\n",
    "import keras.backend as K\n",
    "import keras\n",
    "from IPython.display import clear_output\n",
    "import pandas\n",
    "import time\n",
    "import tensorflow as tf"
   ]
  },
  {
   "cell_type": "code",
   "execution_count": null,
   "metadata": {},
   "outputs": [],
   "source": [
    "def resizeImg(action, x , y):\n",
    "    avgX = x\n",
    "    avgY = y\n",
    "    counter = 0\n",
    "    filelist= [file for file in os.listdir(action + '/') if file.endswith('.jpeg')]\n",
    "    for filename in filelist:\n",
    "    #for filename in itertools.islice(filelist, 0, 100):\n",
    "        img = Image.open(action + '/' + filename)\n",
    "        imgResize = img.resize((avgX, avgY), Image.LANCZOS)\n",
    "        imgResize.save('resized1125x750/' + action + '/' + filename)\n",
    "        img.close()\n",
    "        counter +=1\n",
    "        if (counter % 100) == 0:\n",
    "            clear_output(wait=True)\n",
    "            print(counter, end =\" \") \n",
    "        "
   ]
  },
  {
   "cell_type": "code",
   "execution_count": null,
   "metadata": {},
   "outputs": [],
   "source": [
    "resizeImg('train',1125,750)"
   ]
  },
  {
   "cell_type": "code",
   "execution_count": 2,
   "metadata": {},
   "outputs": [],
   "source": [
    "def process_image(action, labels_file):\n",
    "    counter = 0\n",
    "    labels = pandas.read_csv(labels_file)\n",
    "    X = []\n",
    "    y = []\n",
    "\n",
    "    filelist= [file for file in os.listdir('resized375x250/' + action + '/') if file.endswith('.jpeg')]\n",
    "    for filename in filelist:\n",
    "    #for filename in itertools.islice(filelist, 0, 1000):\n",
    "        #print(filename)\n",
    "        img = Image.open('resized375x250/' + action + '/' + filename)\n",
    "        #imgData = list(img.getdata())\n",
    "        #imgData = np.asarray(imgData)\n",
    "        #imgData = img.getdata()\n",
    "        #imgData = np.asarray(imgData)\n",
    "        rgbimg = Image.new(\"RGB\", img.size)\n",
    "        rgbimg.paste(img)\n",
    "        imgData = np.asarray(rgbimg)\n",
    "        #imgData = np.asarray(img)\n",
    "        #print(imgData.shape)\n",
    "        #print(imgData.ndim)\n",
    "        if imgData.ndim == 3:\n",
    "            x = imgData.reshape(375,250,3)\n",
    "            X.append(x)\n",
    "            #level = labels.loc[labels['image'] == '11909_right.jpeg']\n",
    "            #print(int(level['level'].values))\n",
    "            #print(filename)\n",
    "            #print(filename[:-5])\n",
    "            #level = labels.loc[labels['image'] == filename[:-5]]#use for train\n",
    "            level = labels.loc[labels['image'] == filename]#use for trainModified\n",
    "            #print(level)\n",
    "            #print(int(level['level'].values))\n",
    "            y.append(int(level['level'].values))\n",
    "        img.close()\n",
    "        counter +=1\n",
    "        if (counter % 100) == 0:\n",
    "            clear_output(wait=True)\n",
    "            print(counter, end =\" \") \n",
    "    return X, y"
   ]
  },
  {
   "cell_type": "code",
   "execution_count": 3,
   "metadata": {},
   "outputs": [
    {
     "name": "stdout",
     "output_type": "stream",
     "text": [
      "122000 1254.0052473545074\n"
     ]
    }
   ],
   "source": [
    "start_time = time.time()\n",
    "X, y = process_image('trainModified', 'trainLabelsModified.csv')\n",
    "elapsed_time = time.time() - start_time\n",
    "print(elapsed_time)"
   ]
  },
  {
   "cell_type": "code",
   "execution_count": 4,
   "metadata": {},
   "outputs": [
    {
     "name": "stdout",
     "output_type": "stream",
     "text": [
      "shape of X: (122053, 375, 250, 3)\n",
      "length of X: 122053\n",
      "shape of y: (122053,)\n",
      "length of y: 122053\n",
      "value of y: 0\n"
     ]
    }
   ],
   "source": [
    "X = np.asarray(X)\n",
    "y = np.asarray(y)\n",
    "print(\"shape of X: \" + str(X.shape))\n",
    "print(\"length of X: \" + str(len(X)))\n",
    "print(\"shape of y: \" + str(y.shape))\n",
    "print(\"length of y: \" + str(len(y)))\n",
    "print(\"value of y: \" + str(y[0]))"
   ]
  },
  {
   "cell_type": "code",
   "execution_count": 5,
   "metadata": {},
   "outputs": [],
   "source": [
    "#split X and y into train and test\n",
    "from sklearn.model_selection import train_test_split\n",
    "X_train,X_test, y_train,y_test = train_test_split(X,y,test_size=0.2,random_state=0) "
   ]
  },
  {
   "cell_type": "code",
   "execution_count": 6,
   "metadata": {},
   "outputs": [
    {
     "name": "stdout",
     "output_type": "stream",
     "text": [
      "shape of X_train: (97642, 375, 250, 3)\n",
      "shape of y_train: (97642,)\n",
      "shape of X_test: (24411, 375, 250, 3)\n",
      "shape of y_test: (24411,)\n"
     ]
    }
   ],
   "source": [
    "print(\"shape of X_train: \" + str(X_train.shape))\n",
    "print(\"shape of y_train: \" + str(y_train.shape))\n",
    "print(\"shape of X_test: \" + str(X_test.shape))\n",
    "print(\"shape of y_test: \" + str(y_test.shape))"
   ]
  },
  {
   "cell_type": "code",
   "execution_count": null,
   "metadata": {},
   "outputs": [],
   "source": [
    "X_train"
   ]
  },
  {
   "cell_type": "code",
   "execution_count": null,
   "metadata": {},
   "outputs": [],
   "source": [
    "# print('Saving X_train')\n",
    "# np.save('X_train.npy', X_train)\n",
    "# print('Saving y_train')\n",
    "# np.save('y_train.npy', y_train)\n",
    "# print('Saving X_test')\n",
    "# np.save('X_test.npy', X_test)\n",
    "# print('Saving y_test')\n",
    "# np.save('y_test.npy', y_test)"
   ]
  },
  {
   "cell_type": "code",
   "execution_count": null,
   "metadata": {},
   "outputs": [],
   "source": [
    "# X_train = np.load('X_train.npy)\n",
    "# y_train = np.load('y_train.npy)\n",
    "# X_test = np.load('X_test.npy)\n",
    "# y_test = np.load('y_test.npy)"
   ]
  },
  {
   "cell_type": "code",
   "execution_count": 7,
   "metadata": {},
   "outputs": [],
   "source": [
    "from keras.utils.np_utils import to_categorical\n",
    "y_train = to_categorical(y_train, 5)\n",
    "y_test = to_categorical(y_test, 5)"
   ]
  },
  {
   "cell_type": "code",
   "execution_count": null,
   "metadata": {},
   "outputs": [],
   "source": [
    "#from keras.callbacks import ReduceLROnPlateau , ModelCheckpoint , LearningRateScheduler\n",
    "#lr_reduce = ReduceLROnPlateau(monitor='val_acc', factor=0.1, epsilon=0.0001, patience=1, verbose=1)"
   ]
  },
  {
   "cell_type": "code",
   "execution_count": null,
   "metadata": {},
   "outputs": [],
   "source": [
    "#filepath=\"tf_weightsv2-0.hdf5\"\n",
    "#checkpoint = ModelCheckpoint(filepath, monitor='val_acc', verbose=1, save_best_only=True, mode='max')"
   ]
  },
  {
   "cell_type": "code",
   "execution_count": 8,
   "metadata": {},
   "outputs": [],
   "source": [
    "from keras.models import Sequential , Model\n",
    "from keras.layers import Dense , Activation\n",
    "from keras.layers import Dropout , GlobalAveragePooling2D\n",
    "from keras.layers import Flatten\n",
    "from keras.constraints import maxnorm\n",
    "from keras.optimizers import SGD , RMSprop , Adadelta , Adam\n",
    "from keras.layers import Conv2D , BatchNormalization\n",
    "from keras.layers import MaxPooling2D\n",
    "from keras.utils import np_utils\n",
    "from keras import backend as K\n",
    "K.set_image_dim_ordering('th')\n",
    "from sklearn.model_selection import GridSearchCV\n",
    "from keras.wrappers.scikit_learn import KerasClassifier\n",
    "from keras.utils import multi_gpu_model"
   ]
  },
  {
   "cell_type": "code",
   "execution_count": 9,
   "metadata": {},
   "outputs": [],
   "source": [
    "#use for channels last\n",
    "#X_train=X_train.reshape(5216,250,250,3)\n",
    "X_train=X_train.reshape(97642,375,250,3)\n",
    "X_test=X_test.reshape(24411,375,250,3)\n",
    "#X_train=X_train.reshape(800,375,250,3)\n",
    "#X_test=X_test.reshape(200,375,250,3)\n",
    "K.set_image_data_format('channels_last')"
   ]
  },
  {
   "cell_type": "code",
   "execution_count": 10,
   "metadata": {},
   "outputs": [],
   "source": [
    "from keras.applications.inception_v3 import InceptionV3\n",
    "# create the base pre-trained model\n",
    "with tf.device('/cpu:0'):\n",
    "    base_model = InceptionV3(weights=None, include_top=False , input_shape=(375, 250, 3))\n",
    "#base_model = InceptionV3(weights=None, include_top=False , input_shape=(375, 250, 3))"
   ]
  },
  {
   "cell_type": "code",
   "execution_count": 11,
   "metadata": {},
   "outputs": [],
   "source": [
    "x = base_model.output\n",
    "x = Dropout(0.5)(x)\n",
    "x = GlobalAveragePooling2D()(x)\n",
    "x = Dense(128, activation='relu')(x)\n",
    "#x = Dropout(0.5)(x)#new\n",
    "#x = Dense(128, activation='relu')(x)#new\n",
    "#x = Dropout(0.5)(x)#new\n",
    "x = BatchNormalization()(x)\n",
    "#x = BatchNormalization(axis=3)(x)#use for channels last\n",
    "#predictions = Dense(2, activation='sigmoid')(x)\n",
    "predictions = Dense(5, activation='softmax')(x)"
   ]
  },
  {
   "cell_type": "code",
   "execution_count": 12,
   "metadata": {},
   "outputs": [],
   "source": [
    "model = Model(inputs=base_model.input, outputs=predictions)"
   ]
  },
  {
   "cell_type": "code",
   "execution_count": 20,
   "metadata": {},
   "outputs": [],
   "source": [
    "parallel_model = multi_gpu_model(model, gpus=2)\n",
    "parallel_model.compile(loss='categorical_crossentropy', \n",
    "                       optimizer=Adam(lr=0.001, beta_1=0.9, beta_2=0.999, epsilon=None, decay=0.0, amsgrad=False), \n",
    "                       metrics=['accuracy'])\n",
    "#model.compile(loss='categorical_crossentropy',\n",
    "#              optimizer=Adam(lr=0.001, beta_1=0.9, beta_2=0.999, epsilon=None, decay=0.0, amsgrad=False),\n",
    "#              #optimizer='Adam',\n",
    "#              metrics=['accuracy'])"
   ]
  },
  {
   "cell_type": "code",
   "execution_count": null,
   "metadata": {},
   "outputs": [],
   "source": [
    "print(model.summary())"
   ]
  },
  {
   "cell_type": "code",
   "execution_count": 21,
   "metadata": {},
   "outputs": [],
   "source": [
    "#train 32 on each GPU\n",
    "batch_size = 64\n",
    "#batch_epochs = 1\n",
    "#total_epochs = 10\n",
    "epochs = 12"
   ]
  },
  {
   "cell_type": "code",
   "execution_count": 25,
   "metadata": {},
   "outputs": [
    {
     "name": "stdout",
     "output_type": "stream",
     "text": [
      "Train on 97642 samples, validate on 24411 samples\n",
      "Epoch 1/12\n",
      "97642/97642 [==============================] - 1407s 14ms/step - loss: 1.5714 - acc: 0.2883 - val_loss: 2.0727 - val_acc: 0.2589\n",
      "Epoch 2/12\n",
      "97642/97642 [==============================] - 1396s 14ms/step - loss: 1.5306 - acc: 0.3173 - val_loss: 1.5160 - val_acc: 0.3348\n",
      "Epoch 3/12\n",
      "97642/97642 [==============================] - 1396s 14ms/step - loss: 1.4297 - acc: 0.3753 - val_loss: 1.5090 - val_acc: 0.3975\n",
      "Epoch 4/12\n",
      "97642/97642 [==============================] - 1397s 14ms/step - loss: 1.2246 - acc: 0.4715 - val_loss: 1.3920 - val_acc: 0.4705\n",
      "Epoch 5/12\n",
      "97642/97642 [==============================] - 1397s 14ms/step - loss: 0.9264 - acc: 0.5834 - val_loss: 0.9445 - val_acc: 0.5819\n",
      "Epoch 6/12\n",
      "97642/97642 [==============================] - 1398s 14ms/step - loss: 0.7464 - acc: 0.6496 - val_loss: 0.8349 - val_acc: 0.6257\n",
      "Epoch 7/12\n",
      "97642/97642 [==============================] - 1397s 14ms/step - loss: 0.6405 - acc: 0.7053 - val_loss: 0.6141 - val_acc: 0.7150\n",
      "Epoch 8/12\n",
      "97642/97642 [==============================] - 1397s 14ms/step - loss: 0.5290 - acc: 0.7623 - val_loss: 0.5612 - val_acc: 0.7361\n",
      "Epoch 9/12\n",
      "97642/97642 [==============================] - 1398s 14ms/step - loss: 0.4297 - acc: 0.8080 - val_loss: 0.4573 - val_acc: 0.7932\n",
      "Epoch 10/12\n",
      "97642/97642 [==============================] - 1396s 14ms/step - loss: 0.3551 - acc: 0.8425 - val_loss: 0.4556 - val_acc: 0.7949\n",
      "Epoch 11/12\n",
      "97642/97642 [==============================] - 1396s 14ms/step - loss: 0.3023 - acc: 0.8687 - val_loss: 0.2862 - val_acc: 0.8716\n",
      "Epoch 12/12\n",
      "97642/97642 [==============================] - 1397s 14ms/step - loss: 0.2547 - acc: 0.8922 - val_loss: 0.3778 - val_acc: 0.8533\n"
     ]
    }
   ],
   "source": [
    "# Since the batch size is 64, each GPU will process 32 samples.\n",
    "history = parallel_model.fit(X_train, y_train, validation_data = (X_test , y_test),\n",
    "                             epochs=epochs, batch_size=batch_size)\n",
    "#history = model.fit(X_train, y_train, validation_data = (X_test , y_test),\n",
    "#                    callbacks=[lr_reduce,checkpoint], epochs=epochs)\n",
    "#history = model.fit(X_train, y_train, validation_data = (X_test , y_test),\n",
    "                    #epochs=epochs, batch_size=batch_size)"
   ]
  },
  {
   "cell_type": "code",
   "execution_count": null,
   "metadata": {},
   "outputs": [],
   "source": [
    "# #epoch_counter = 0\n",
    "# for epoch_counter in range(total_epochs):\n",
    "#     if epoch_counter == 0:\n",
    "#         with open('trainHistory2-0.pickle', 'wb') as file_history:\n",
    "#             pickle.dump(history_new.history, file_history)\n",
    "#         print('save model on epoch#' + str(epoch_counter))\n",
    "#         model.save(diabetic_ret_model.h5)\n",
    "#     else:\n",
    "#         with open(r\"trainHistory2-0.pickle\", \"rb\") as input_file: history = Pickle.load(input_file)\n",
    "#         if (history_new['val_acc'][len(history_new['val_acc'])-1]) > (max(history['val_acc'])):\n",
    "#             print('val_acc improved - save model on epoch#' + str(epoch_counter))\n",
    "#             model.save(diabetic_ret_model.h5)\n",
    "#         else:\n",
    "#             print('va_acc did not improve - do not save model')"
   ]
  },
  {
   "cell_type": "code",
   "execution_count": 27,
   "metadata": {},
   "outputs": [],
   "source": [
    "import pickle"
   ]
  },
  {
   "cell_type": "code",
   "execution_count": 28,
   "metadata": {},
   "outputs": [],
   "source": [
    "with open('trainHistoryv2-3.pickle', 'wb') as file_history:\n",
    "    pickle.dump(history.history, file_history)"
   ]
  },
  {
   "cell_type": "code",
   "execution_count": 29,
   "metadata": {},
   "outputs": [],
   "source": [
    "model.save('diabetic_ret_v2-3-model.h5')"
   ]
  },
  {
   "cell_type": "code",
   "execution_count": null,
   "metadata": {},
   "outputs": [],
   "source": [
    "print(history.history['val_acc'])"
   ]
  },
  {
   "cell_type": "code",
   "execution_count": null,
   "metadata": {},
   "outputs": [],
   "source": [
    "#from keras.models import load_model\n",
    "#model = load_model('tf_weightsv1-0.hdf5')"
   ]
  },
  {
   "cell_type": "code",
   "execution_count": null,
   "metadata": {},
   "outputs": [],
   "source": [
    "#model.load_weights(\"tf_weightsv1-0.hdf5\")"
   ]
  },
  {
   "cell_type": "code",
   "execution_count": null,
   "metadata": {},
   "outputs": [],
   "source": [
    "with open(r\"trainHistoryv2-3.pickle\", \"rb\") as input_file: history = pickle.load(input_file)"
   ]
  },
  {
   "cell_type": "code",
   "execution_count": null,
   "metadata": {},
   "outputs": [],
   "source": [
    "import matplotlib.pyplot as plt\n",
    "plt.plot(history.history['acc'])\n",
    "plt.plot(history.history['val_acc'])\n",
    "plt.title('model accuracy')\n",
    "plt.ylabel('accuracy')\n",
    "plt.xlabel('epoch')\n",
    "plt.legend(['train', 'test'], loc='upper left')\n",
    "plt.show()\n",
    "# summarize history for loss\n",
    "plt.plot(history.history['loss'])\n",
    "plt.plot(history.history['val_loss'])\n",
    "plt.title('model loss')\n",
    "plt.ylabel('loss')\n",
    "plt.xlabel('epoch')\n",
    "plt.legend(['train', 'test'], loc='upper left')\n",
    "plt.show()"
   ]
  },
  {
   "cell_type": "code",
   "execution_count": 30,
   "metadata": {},
   "outputs": [
    {
     "data": {
      "text/plain": [
       "<Figure size 640x480 with 1 Axes>"
      ]
     },
     "metadata": {},
     "output_type": "display_data"
    },
    {
     "data": {
      "text/plain": [
       "<Figure size 640x480 with 1 Axes>"
      ]
     },
     "metadata": {},
     "output_type": "display_data"
    }
   ],
   "source": [
    "import matplotlib.pyplot as plt\n",
    "fig1, ax = plt.subplots()\n",
    "ax.plot(history.history['acc'])\n",
    "ax.plot(history.history['val_acc'])\n",
    "plt.title('model accuracy')\n",
    "plt.ylabel('accuracy')\n",
    "plt.xlabel('epoch')\n",
    "plt.legend(['train', 'test'], loc='upper left')\n",
    "plt.show()\n",
    "# summarize history for loss\n",
    "fig2, ax = plt.subplots()\n",
    "ax.plot(history.history['loss'])\n",
    "ax.plot(history.history['val_loss'])\n",
    "plt.title('model loss')\n",
    "plt.ylabel('loss')\n",
    "plt.xlabel('epoch')\n",
    "plt.legend(['train', 'test'], loc='upper left')\n",
    "plt.show()"
   ]
  },
  {
   "cell_type": "code",
   "execution_count": 31,
   "metadata": {},
   "outputs": [],
   "source": [
    "fig1.savefig('acc_v2-3.png')\n",
    "fig2.savefig('loss_v2-3.png')"
   ]
  },
  {
   "cell_type": "code",
   "execution_count": 32,
   "metadata": {},
   "outputs": [],
   "source": [
    "from sklearn.metrics import confusion_matrix\n",
    "pred = model.predict(X_test)\n",
    "pred = np.argmax(pred,axis = 1) \n",
    "y_true = np.argmax(y_test,axis = 1)\n",
    "#y_true = y_test"
   ]
  },
  {
   "cell_type": "code",
   "execution_count": null,
   "metadata": {},
   "outputs": [],
   "source": [
    "y_true"
   ]
  },
  {
   "cell_type": "code",
   "execution_count": null,
   "metadata": {},
   "outputs": [],
   "source": [
    "pred"
   ]
  },
  {
   "cell_type": "code",
   "execution_count": 33,
   "metadata": {},
   "outputs": [
    {
     "data": {
      "image/png": "[encoded data removed]",
      "text/plain": [
       "<Figure size 360x360 with 1 Axes>"
      ]
     },
     "metadata": {},
     "output_type": "display_data"
    }
   ],
   "source": [
    "CM = confusion_matrix(y_true, pred)\n",
    "from mlxtend.plotting import plot_confusion_matrix\n",
    "fig, ax = plot_confusion_matrix(conf_mat=CM, figsize=(5, 5))\n",
    "plt.show()"
   ]
  },
  {
   "cell_type": "code",
   "execution_count": 34,
   "metadata": {},
   "outputs": [],
   "source": [
    "fig.savefig('cm_v2-3.png')"
   ]
  },
  {
   "cell_type": "code",
   "execution_count": null,
   "metadata": {},
   "outputs": [],
   "source": [
    "precision = 390 / (390 + 137)\n",
    "print(precision)"
   ]
  },
  {
   "cell_type": "code",
   "execution_count": null,
   "metadata": {},
   "outputs": [],
   "source": [
    "recall = 390 / (390 + 0)\n",
    "print(recall)"
   ]
  },
  {
   "cell_type": "code",
   "execution_count": null,
   "metadata": {},
   "outputs": [],
   "source": [
    "f1 = (2*recall*precision) / (recall + precision)\n",
    "print(f1)"
   ]
  },
  {
   "cell_type": "code",
   "execution_count": 35,
   "metadata": {},
   "outputs": [
    {
     "ename": "TypeError",
     "evalue": "only size-1 arrays can be converted to Python scalars",
     "output_type": "error",
     "traceback": [
      "\u001b[0;31m---------------------------------------------------------------------------\u001b[0m",
      "\u001b[0;31mTypeError\u001b[0m                                 Traceback (most recent call last)",
      "\u001b[0;32m<ipython-input-35-d378793dd341>\u001b[0m in \u001b[0;36m<module>\u001b[0;34m()\u001b[0m\n\u001b[0;32m----> 1\u001b[0;31m \u001b[0mX_validate\u001b[0m\u001b[0;34m,\u001b[0m \u001b[0my_validate\u001b[0m \u001b[0;34m=\u001b[0m \u001b[0mprocess_image\u001b[0m\u001b[0;34m(\u001b[0m\u001b[0;34m'validate'\u001b[0m\u001b[0;34m,\u001b[0m \u001b[0;34m'validateLabels.csv'\u001b[0m\u001b[0;34m)\u001b[0m\u001b[0;34m\u001b[0m\u001b[0m\n\u001b[0m",
      "\u001b[0;32m<ipython-input-2-9ebf61653001>\u001b[0m in \u001b[0;36mprocess_image\u001b[0;34m(action, labels_file)\u001b[0m\n\u001b[1;32m     31\u001b[0m             \u001b[0;31m#print(level)\u001b[0m\u001b[0;34m\u001b[0m\u001b[0;34m\u001b[0m\u001b[0m\n\u001b[1;32m     32\u001b[0m             \u001b[0;31m#print(int(level['level'].values))\u001b[0m\u001b[0;34m\u001b[0m\u001b[0;34m\u001b[0m\u001b[0m\n\u001b[0;32m---> 33\u001b[0;31m             \u001b[0my\u001b[0m\u001b[0;34m.\u001b[0m\u001b[0mappend\u001b[0m\u001b[0;34m(\u001b[0m\u001b[0mint\u001b[0m\u001b[0;34m(\u001b[0m\u001b[0mlevel\u001b[0m\u001b[0;34m[\u001b[0m\u001b[0;34m'level'\u001b[0m\u001b[0;34m]\u001b[0m\u001b[0;34m.\u001b[0m\u001b[0mvalues\u001b[0m\u001b[0;34m)\u001b[0m\u001b[0;34m)\u001b[0m\u001b[0;34m\u001b[0m\u001b[0m\n\u001b[0m\u001b[1;32m     34\u001b[0m         \u001b[0mimg\u001b[0m\u001b[0;34m.\u001b[0m\u001b[0mclose\u001b[0m\u001b[0;34m(\u001b[0m\u001b[0;34m)\u001b[0m\u001b[0;34m\u001b[0m\u001b[0m\n\u001b[1;32m     35\u001b[0m         \u001b[0mcounter\u001b[0m \u001b[0;34m+=\u001b[0m\u001b[0;36m1\u001b[0m\u001b[0;34m\u001b[0m\u001b[0m\n",
      "\u001b[0;31mTypeError\u001b[0m: only size-1 arrays can be converted to Python scalars"
     ]
    }
   ],
   "source": [
    "X_validate, y_validate = process_image('validate', 'validateLabels.csv')"
   ]
  },
  {
   "cell_type": "code",
   "execution_count": null,
   "metadata": {},
   "outputs": [],
   "source": [
    "X_validate = np.asarray(X_validate)\n",
    "print(\"shape of X_validate: \" + str(X_validate.shape))"
   ]
  },
  {
   "cell_type": "code",
   "execution_count": null,
   "metadata": {},
   "outputs": [],
   "source": [
    "from keras.models import load_model\n",
    "model2 = load_model('diabetic_ret_v2-3-model.h5')"
   ]
  },
  {
   "cell_type": "code",
   "execution_count": null,
   "metadata": {},
   "outputs": [],
   "source": [
    "predictions = model2.predict(X_validate)"
   ]
  },
  {
   "cell_type": "code",
   "execution_count": null,
   "metadata": {},
   "outputs": [],
   "source": [
    "predictions"
   ]
  },
  {
   "cell_type": "code",
   "execution_count": null,
   "metadata": {},
   "outputs": [],
   "source": [
    "y_validate"
   ]
  }
 ],
 "metadata": {
  "kernelspec": {
   "display_name": "Python 3",
   "language": "python",
   "name": "python3"
  },
  "language_info": {
   "codemirror_mode": {
    "name": "ipython",
    "version": 3
   },
   "file_extension": ".py",
   "mimetype": "text/x-python",
   "name": "python",
   "nbconvert_exporter": "python",
   "pygments_lexer": "ipython3",
   "version": "3.6.4"
  }
 },
 "nbformat": 4,
 "nbformat_minor": 2
}
